{
  "cells": [
    {
      "cell_type": "code",
      "execution_count": 1,
      "metadata": {
        "id": "W_Y0KfQBG0gO"
      },
      "outputs": [
        {
          "name": "stdout",
          "output_type": "stream",
          "text": [
            "WARNING:tensorflow:From c:\\Users\\ILiYA\\anaconda3\\Lib\\site-packages\\keras\\src\\losses.py:2976: The name tf.losses.sparse_softmax_cross_entropy is deprecated. Please use tf.compat.v1.losses.sparse_softmax_cross_entropy instead.\n",
            "\n"
          ]
        }
      ],
      "source": [
        "import os\n",
        "import cv2\n",
        "import numpy as np\n",
        "import tensorflow as tf\n",
        "import matplotlib.pyplot as plt\n",
        "from keras.models import load_model\n",
        "from tensorflow.keras.models import Sequential\n",
        "from tensorflow.keras.callbacks import TensorBoard\n",
        "from tensorflow.keras.layers import Dense,Dropout,Activation,Flatten,Conv2D,MaxPooling2D\n",
        "from tensorflow.keras.utils import to_categorical\n",
        "from tensorflow.keras.optimizers import SGD,Adam\n",
        "from keras.preprocessing import image as keras_image\n",
        "from tensorflow.keras.metrics import categorical_crossentropy"
      ]
    },
    {
      "cell_type": "code",
      "execution_count": 2,
      "metadata": {
        "colab": {
          "base_uri": "https://localhost:8080/",
          "height": 1000
        },
        "id": "tTVzYeLG3c0o",
        "outputId": "df9dc634-ef35-4bc5-9e54-8af4a03d1ea3"
      },
      "outputs": [
        {
          "name": "stdout",
          "output_type": "stream",
          "text": [
            "Part 1 cropped image saved at C:\\Users\\ILiYA\\Desktop\\Project\\Live Proccessing\\preprocessed plate picture\\part_1.jpg\n",
            "Part 2 cropped image saved at C:\\Users\\ILiYA\\Desktop\\Project\\Live Proccessing\\preprocessed plate picture\\part_2.jpg\n",
            "Part 3 cropped image saved at C:\\Users\\ILiYA\\Desktop\\Project\\Live Proccessing\\preprocessed plate picture\\part_3.jpg\n",
            "Part 4 cropped image saved at C:\\Users\\ILiYA\\Desktop\\Project\\Live Proccessing\\preprocessed plate picture\\part_4.jpg\n"
          ]
        }
      ],
      "source": [
        "# Load the image\n",
        "image_path = r\"C:\\Users\\ILiYA\\Desktop\\Project\\Media\\Cars's Plate\\2534558_858.jpg\"\n",
        "image = cv2.imread(image_path)\n",
        "up_crop = int(image.shape[0] * 0.1)\n",
        "down_crop = int(image.shape[0] * 0.02)\n",
        "left_crop = int(image.shape[1] * 0.10)\n",
        "right_crop = int(image.shape[1] * 0)\n",
        "image = image[up_crop:image.shape[0] - down_crop, left_crop:image.shape[1] - right_crop]\n",
        "# Create output folder\n",
        "output_folder = r\"C:\\Users\\ILiYA\\Desktop\\Project\\Live Proccessing\\preprocessed plate picture\"\n",
        "os.makedirs(output_folder, exist_ok=True)\n",
        "\n",
        "# Crop and save part 1\n",
        "up_crop = int(image.shape[0] * 0)\n",
        "down_crop = int(image.shape[0] * 0.05)\n",
        "left_crop = int(image.shape[1] * 0)\n",
        "right_crop = int(image.shape[1] * 0.77)\n",
        "cropped_image_1 = image[up_crop:image.shape[0] - down_crop, left_crop:image.shape[1] - right_crop]\n",
        "output_path_1 = os.path.join(output_folder, 'part_1.jpg')\n",
        "cv2.imwrite(output_path_1, cropped_image_1)\n",
        "print(f\"Part 1 cropped image saved at {output_path_1}\")\n",
        "\n",
        "# Crop and save part 2\n",
        "up_crop = int(image.shape[0] * 0)\n",
        "down_crop = int(image.shape[0] * 0.05)\n",
        "left_crop = int(image.shape[1] * 0.43)\n",
        "right_crop = int(image.shape[1] * 0.25)\n",
        "cropped_image_2 = image[up_crop:image.shape[0] - down_crop, left_crop:image.shape[1] - right_crop]\n",
        "output_path_2 = os.path.join(output_folder, 'part_2.jpg')\n",
        "cv2.imwrite(output_path_2, cropped_image_2)\n",
        "print(f\"Part 2 cropped image saved at {output_path_2}\")\n",
        "\n",
        "# Crop and save part 3\n",
        "up_crop = int(image.shape[0] * 0.2)\n",
        "down_crop = int(image.shape[0] * 0)\n",
        "left_crop = int(image.shape[1] * 0.8)\n",
        "right_crop = int(image.shape[1] * 0.03)\n",
        "cropped_image_3 = image[up_crop:image.shape[0] - down_crop, left_crop:image.shape[1] - right_crop]\n",
        "output_path_3 = os.path.join(output_folder, 'part_3.jpg')\n",
        "cv2.imwrite(output_path_3, cropped_image_3)\n",
        "print(f\"Part 3 cropped image saved at {output_path_3}\")\n",
        "\n",
        "# Crop and save part 4\n",
        "up_crop = int(image.shape[0] * 0)\n",
        "down_crop = int(image.shape[0] * 0)\n",
        "left_crop = int(image.shape[1] * 0.20)\n",
        "right_crop = int(image.shape[1] * 0.57)\n",
        "cropped_image_4 = image[up_crop:image.shape[0] - down_crop, left_crop:image.shape[1] - right_crop]\n",
        "output_path_4 = os.path.join(output_folder, 'part_4.jpg')\n",
        "cv2.imwrite(output_path_4, cropped_image_4)\n",
        "print(f\"Part 4 cropped image saved at {output_path_4}\")\n"
      ]
    },
    {
      "cell_type": "code",
      "execution_count": 3,
      "metadata": {
        "colab": {
          "base_uri": "https://localhost:8080/",
          "height": 871
        },
        "id": "kDBfOBdd41dH",
        "outputId": "4e157515-27f2-4d05-bd78-74b65162ec3f"
      },
      "outputs": [
        {
          "name": "stdout",
          "output_type": "stream",
          "text": [
            "Part 1 cropped image saved at C:\\Users\\ILiYA\\Desktop\\Project\\Live Proccessing\\preprocessed plate picture\\cropped numbers\\part_1_1.jpg\n",
            "Part 2 cropped image saved at C:\\Users\\ILiYA\\Desktop\\Project\\Live Proccessing\\preprocessed plate picture\\cropped numbers\\part_1_2.jpg\n"
          ]
        }
      ],
      "source": [
        "# Load the image\n",
        "image_path = r\"C:\\Users\\ILiYA\\Desktop\\Project\\Live Proccessing\\preprocessed plate picture\\part_1.jpg\"\n",
        "image = cv2.imread(image_path)\n",
        "output_folder = r\"C:\\Users\\ILiYA\\Desktop\\Project\\Live Proccessing\\preprocessed plate picture\\cropped numbers\"\n",
        "# Calculate crop dimensions\n",
        "height, width = image.shape[:2]\n",
        "left_crop = int(width * 0.55)\n",
        "\n",
        "# Crop the image into two parts vertically\n",
        "cropped_image_1 = image[:, :left_crop]\n",
        "cropped_image_2 = image[:, left_crop:]\n",
        "\n",
        "# Save the cropped images\n",
        "output_path_1 = os.path.join(output_folder, 'part_1_1.jpg')\n",
        "output_path_2 = os.path.join(output_folder, 'part_1_2.jpg')\n",
        "\n",
        "cv2.imwrite(output_path_1, cropped_image_1)\n",
        "cv2.imwrite(output_path_2, cropped_image_2)\n",
        "\n",
        "print(f\"Part 1 cropped image saved at {output_path_1}\")\n",
        "print(f\"Part 2 cropped image saved at {output_path_2}\")\n"
      ]
    },
    {
      "cell_type": "code",
      "execution_count": 4,
      "metadata": {
        "colab": {
          "base_uri": "https://localhost:8080/",
          "height": 1000
        },
        "id": "v2SaPwbR6E9f",
        "outputId": "a3f4ece6-3b61-4e2a-d63f-bcfb346d5b2d"
      },
      "outputs": [
        {
          "name": "stdout",
          "output_type": "stream",
          "text": [
            "Part 1 cropped image saved at C:\\Users\\ILiYA\\Desktop\\Project\\Live Proccessing\\preprocessed plate picture\\cropped numbers\\part_2_1.jpg\n",
            "Part 2 cropped image saved at C:\\Users\\ILiYA\\Desktop\\Project\\Live Proccessing\\preprocessed plate picture\\cropped numbers\\part_2_2.jpg\n",
            "Part 3 cropped image saved at C:\\Users\\ILiYA\\Desktop\\Project\\Live Proccessing\\preprocessed plate picture\\cropped numbers\\part_2_3.jpg\n"
          ]
        }
      ],
      "source": [
        "# Load the image\n",
        "image_path = r\"C:\\Users\\ILiYA\\Desktop\\Project\\Live Proccessing\\preprocessed plate picture\\part_2.jpg\"\n",
        "image = cv2.imread(image_path)\n",
        "\n",
        "# Calculate crop dimensions\n",
        "height, width = image.shape[:2]\n",
        "crop_1 = int(width * 1 / 3)\n",
        "crop_2 = int(width * 2 / 3)\n",
        "\n",
        "# Crop the image into three parts vertically\n",
        "cropped_image_1 = image[:, :crop_1]\n",
        "cropped_image_2 = image[:, crop_1:crop_2]\n",
        "cropped_image_3 = image[:, crop_2:]\n",
        "\n",
        "# Save the cropped images\n",
        "output_folder = r\"C:\\Users\\ILiYA\\Desktop\\Project\\Live Proccessing\\preprocessed plate picture\\cropped numbers\"\n",
        "os.makedirs(output_folder, exist_ok=True)\n",
        "output_path_1 = os.path.join(output_folder, 'part_2_1.jpg')\n",
        "output_path_2 = os.path.join(output_folder, 'part_2_2.jpg')\n",
        "output_path_3 = os.path.join(output_folder, 'part_2_3.jpg')\n",
        "\n",
        "cv2.imwrite(output_path_1, cropped_image_1)\n",
        "cv2.imwrite(output_path_2, cropped_image_2)\n",
        "cv2.imwrite(output_path_3, cropped_image_3)\n",
        "\n",
        "print(f\"Part 1 cropped image saved at {output_path_1}\")\n",
        "print(f\"Part 2 cropped image saved at {output_path_2}\")\n",
        "print(f\"Part 3 cropped image saved at {output_path_3}\")\n"
      ]
    },
    {
      "cell_type": "code",
      "execution_count": 5,
      "metadata": {
        "colab": {
          "base_uri": "https://localhost:8080/",
          "height": 742
        },
        "id": "g0MBszAi6d4O",
        "outputId": "00b58f24-5961-4020-a305-5e085f2641d8"
      },
      "outputs": [
        {
          "name": "stdout",
          "output_type": "stream",
          "text": [
            "Part 1 cropped image saved at C:\\Users\\ILiYA\\Desktop\\Project\\Live Proccessing\\preprocessed plate picture\\cropped numbers\\part_3_1.jpg\n",
            "Part 2 cropped image saved at C:\\Users\\ILiYA\\Desktop\\Project\\Live Proccessing\\preprocessed plate picture\\cropped numbers\\part_3_2.jpg\n"
          ]
        }
      ],
      "source": [
        "# Load the image\n",
        "image_path = r\"C:\\Users\\ILiYA\\Desktop\\Project\\Live Proccessing\\preprocessed plate picture\\part_3.jpg\"\n",
        "image = cv2.imread(image_path)\n",
        "\n",
        "# Calculate crop dimensions\n",
        "height, width = image.shape[:2]\n",
        "left_crop = int(width * 0.5)\n",
        "\n",
        "# Crop the image into two parts vertically\n",
        "cropped_image_1 = image[:, :left_crop]\n",
        "cropped_image_2 = image[:, left_crop:]\n",
        "\n",
        "# Save the cropped images\n",
        "output_folder = r\"C:\\Users\\ILiYA\\Desktop\\Project\\Live Proccessing\\preprocessed plate picture\\cropped numbers\"\n",
        "os.makedirs(output_folder, exist_ok=True)\n",
        "output_path_1 = os.path.join(output_folder, 'part_3_1.jpg')\n",
        "output_path_2 = os.path.join(output_folder, 'part_3_2.jpg')\n",
        "\n",
        "cv2.imwrite(output_path_1, cropped_image_1)\n",
        "cv2.imwrite(output_path_2, cropped_image_2)\n",
        "\n",
        "print(f\"Part 1 cropped image saved at {output_path_1}\")\n",
        "print(f\"Part 2 cropped image saved at {output_path_2}\")\n"
      ]
    }
  ],
  "metadata": {
    "accelerator": "GPU",
    "colab": {
      "gpuType": "T4",
      "provenance": []
    },
    "kernelspec": {
      "display_name": "Python 3",
      "name": "python3"
    },
    "language_info": {
      "codemirror_mode": {
        "name": "ipython",
        "version": 3
      },
      "file_extension": ".py",
      "mimetype": "text/x-python",
      "name": "python",
      "nbconvert_exporter": "python",
      "pygments_lexer": "ipython3",
      "version": "3.11.5"
    }
  },
  "nbformat": 4,
  "nbformat_minor": 0
}
