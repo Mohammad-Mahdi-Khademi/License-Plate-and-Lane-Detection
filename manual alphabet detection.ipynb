{
 "cells": [
  {
   "cell_type": "code",
   "execution_count": 1,
   "metadata": {},
   "outputs": [
    {
     "name": "stdout",
     "output_type": "stream",
     "text": [
      "WARNING:tensorflow:From c:\\Users\\ILiYA\\anaconda3\\Lib\\site-packages\\keras\\src\\losses.py:2976: The name tf.losses.sparse_softmax_cross_entropy is deprecated. Please use tf.compat.v1.losses.sparse_softmax_cross_entropy instead.\n",
      "\n"
     ]
    }
   ],
   "source": [
    "import cv2\n",
    "import numpy as np\n",
    "import tensorflow as tf\n",
    "import matplotlib.pyplot as plt\n",
    "from keras.models import load_model\n",
    "from tensorflow.keras.models import Sequential\n",
    "from tensorflow.keras.callbacks import TensorBoard\n",
    "from tensorflow.keras.layers import Dense,Dropout,Activation,Flatten,Conv2D,MaxPooling2D\n",
    "from tensorflow.keras.utils import to_categorical\n",
    "from tensorflow.keras.optimizers import SGD,Adam\n",
    "from keras.preprocessing import image as keras_image\n",
    "from tensorflow.keras.metrics import categorical_crossentropy\n"
   ]
  },
  {
   "cell_type": "code",
   "execution_count": 2,
   "metadata": {},
   "outputs": [
    {
     "name": "stdout",
     "output_type": "stream",
     "text": [
      "WARNING:tensorflow:From c:\\Users\\ILiYA\\anaconda3\\Lib\\site-packages\\keras\\src\\backend.py:1398: The name tf.executing_eagerly_outside_functions is deprecated. Please use tf.compat.v1.executing_eagerly_outside_functions instead.\n",
      "\n",
      "WARNING:tensorflow:From c:\\Users\\ILiYA\\anaconda3\\Lib\\site-packages\\keras\\src\\layers\\pooling\\max_pooling2d.py:161: The name tf.nn.max_pool is deprecated. Please use tf.nn.max_pool2d instead.\n",
      "\n"
     ]
    }
   ],
   "source": [
    "model = load_model(r\"C:\\Users\\ILiYA\\Desktop\\Project\\Models\\trained persian alphabet detection\\trained_model.h5\")"
   ]
  },
  {
   "cell_type": "code",
   "execution_count": 3,
   "metadata": {},
   "outputs": [
    {
     "data": {
      "image/png": "[encoded data removed]",
      "text/plain": [
       "<Figure size 640x480 with 1 Axes>"
      ]
     },
     "metadata": {},
     "output_type": "display_data"
    },
    {
     "name": "stdout",
     "output_type": "stream",
     "text": [
      "1/1 [==============================] - 0s 103ms/step\n",
      "[[3.0232841e-11 7.3122237e-18 5.0258621e-18 3.6027794e-14 1.0050355e-08\n",
      "  1.5784317e-07 1.4897075e-15 1.0695150e-14 5.8710947e-20 4.1252112e-19\n",
      "  3.3256720e-17 7.5800008e-01 2.4125114e-01 4.2295063e-04 1.8237277e-04\n",
      "  4.1091890e-09 9.6912278e-10 2.3051675e-14 1.8096376e-13 7.4432284e-18\n",
      "  1.1148060e-18 3.4138488e-25 8.7414282e-21 2.2020759e-13 4.1980739e-13\n",
      "  5.4998112e-10 2.3289541e-13 1.3963350e-04 1.6209434e-06 1.3157405e-08\n",
      "  5.6676579e-09 7.9394914e-11 1.9263948e-06 4.8867532e-11 9.2213405e-08\n",
      "  1.4291441e-08 2.8066826e-14 1.1595812e-19 4.9900006e-12 2.7842782e-21\n",
      "  2.4974081e-16 5.6324443e-15]]\n",
      "Predicted class: 11\n",
      "Predicted label: ب\n"
     ]
    }
   ],
   "source": [
    "# Load the image using OpenCV\n",
    "img = cv2.imread(r\"C:\\Users\\ILiYA\\Desktop\\Project\\Live Proccessing\\preprocessed plate picture\\part_4.jpg\")\n",
    "\n",
    "# Resize the image\n",
    "img = cv2.resize(img, (60, 60))\n",
    "\n",
    "# Convert the image to RGB (if it's not in RGB already)\n",
    "img = cv2.cvtColor(img, cv2.COLOR_BGR2RGB)\n",
    "\n",
    "# Display the image\n",
    "plt.imshow(img)\n",
    "plt.axis('off')\n",
    "plt.show()\n",
    "\n",
    "# Convert the image to an array\n",
    "img_array = keras_image.img_to_array(img)\n",
    "img_array = img_array / 255.0  # Normalize the pixel values between 0 and 1\n",
    "\n",
    "# Expand dimensions to match the model's expected input shape\n",
    "img_array = np.expand_dims(img_array, axis=0)\n",
    "\n",
    "# Now, make predictions\n",
    "predictions = model.predict(img_array)\n",
    "print(predictions)\n",
    "\n",
    "# Get the predicted class\n",
    "predicted_class = np.argmax(predictions)\n",
    "print(\"Predicted class:\", predicted_class)\n",
    "\n",
    "# Map the predicted class to the corresponding label\n",
    "# Add your mapping logic here\n",
    "# For example:\n",
    "label_mapping = {\n",
    "    0: \"0\",\n",
    "    1: \"1\",\n",
    "    2: \"2\",\n",
    "    3: \"3\",\n",
    "    4: \"4\",\n",
    "    5: \"5\",\n",
    "    6: \"6\",\n",
    "    7: \"7\",\n",
    "    8: \"8\",\n",
    "    9: \"9\",\n",
    "    10: \"ا\",\n",
    "    11: \"ب\",\n",
    "    12: \"ب\",\n",
    "    13: \"ت\",\n",
    "    14: \"ث\",\n",
    "    15: \"ج\",\n",
    "    16: \"چ\",\n",
    "    17: \"ح\",\n",
    "    18: \"خ\",\n",
    "    19: \"د\",\n",
    "    20: \"ذ\",\n",
    "    21: \"ر\",\n",
    "    22: \"ز\",\n",
    "    23: \"ژ\",\n",
    "    24: \"س\",\n",
    "    25: \"ش\",\n",
    "    26: \"ص\",\n",
    "    27: \"ض\",\n",
    "    28: \"ط\",\n",
    "    29: \"ظ\",\n",
    "    30: \"ع\",\n",
    "    31: \"غ\",\n",
    "    32: \"ف\",\n",
    "    33: \"ق\",\n",
    "    34: \"ک\",\n",
    "    35: \"گ\",\n",
    "    36: \"ل\",\n",
    "    37: \"م\",\n",
    "    38: \"ن\",\n",
    "    39: \"و\",\n",
    "    40: \"ه\",\n",
    "    41: \"ی\"\n",
    "}\n",
    "\n",
    "predicted_label = label_mapping.get(predicted_class, \"Unknown\")\n",
    "print(\"Predicted label:\", predicted_label)\n"
   ]
  }
 ],
 "metadata": {
  "kernelspec": {
   "display_name": "base",
   "language": "python",
   "name": "python3"
  },
  "language_info": {
   "codemirror_mode": {
    "name": "ipython",
    "version": 3
   },
   "file_extension": ".py",
   "mimetype": "text/x-python",
   "name": "python",
   "nbconvert_exporter": "python",
   "pygments_lexer": "ipython3",
   "version": "3.11.5"
  }
 },
 "nbformat": 4,
 "nbformat_minor": 2
}
