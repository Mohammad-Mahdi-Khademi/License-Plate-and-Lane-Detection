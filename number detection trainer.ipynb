{
 "cells": [
  {
   "cell_type": "code",
   "execution_count": 1,
   "metadata": {},
   "outputs": [
    {
     "name": "stdout",
     "output_type": "stream",
     "text": [
      "WARNING:tensorflow:From c:\\Users\\ILiYA\\anaconda3\\Lib\\site-packages\\keras\\src\\losses.py:2976: The name tf.losses.sparse_softmax_cross_entropy is deprecated. Please use tf.compat.v1.losses.sparse_softmax_cross_entropy instead.\n",
      "\n"
     ]
    }
   ],
   "source": [
    "import tensorflow as tf\n",
    "from tensorflow.keras.models import Sequential\n",
    "from tensorflow.keras.callbacks import TensorBoard\n",
    "from tensorflow.keras.layers import Dense,Dropout,Activation,Flatten,Conv2D,MaxPooling2D\n",
    "from tensorflow.keras.utils import to_categorical\n",
    "from tensorflow.keras.optimizers import SGD,Adam\n",
    "from keras.preprocessing import image as keras_image\n",
    "from tensorflow.keras.metrics import categorical_crossentropy\n",
    "import matplotlib.pyplot as plt\n",
    "import numpy as np\n",
    "import pandas as pd\n",
    "import matplotlib.pyplot as plt\n",
    "import os\n",
    "import cv2\n",
    "import pickle\n",
    "import random\n",
    "import time\n",
    "import zipfile\n",
    "from shutil import copyfile\n",
    "import struct\n",
    "from sklearn.model_selection import train_test_split"
   ]
  },
  {
   "cell_type": "code",
   "execution_count": 2,
   "metadata": {},
   "outputs": [],
   "source": [
    "def __convert_to_one_hot(vector, num_classes):\n",
    "    result = np.zeros(shape=[len(vector), num_classes])\n",
    "    result[np.arange(len(vector)), vector] = 1\n",
    "    return result"
   ]
  },
  {
   "cell_type": "code",
   "execution_count": 3,
   "metadata": {},
   "outputs": [],
   "source": [
    "def __resize_image(src_image, dst_image_height, dst_image_width):\n",
    "    src_image_height = src_image.shape[0]\n",
    "    src_image_width = src_image.shape[1]\n",
    "\n",
    "    if src_image_height > dst_image_height or src_image_width > dst_image_width:\n",
    "        height_scale = dst_image_height / src_image_height\n",
    "        width_scale = dst_image_width / src_image_width\n",
    "        scale = min(height_scale, width_scale)\n",
    "        img = cv2.resize(src=src_image, dsize=(0, 0), fx=scale, fy=scale, interpolation=cv2.INTER_CUBIC)\n",
    "    else:\n",
    "        img = src_image\n",
    "\n",
    "    img_height = img.shape[0]\n",
    "    img_width = img.shape[1]\n",
    "\n",
    "    dst_image = np.zeros(shape=[dst_image_height, dst_image_width], dtype=np.uint8)\n",
    "\n",
    "    y_offset = (dst_image_height - img_height) // 2\n",
    "    x_offset = (dst_image_width - img_width) // 2\n",
    "\n",
    "    dst_image[y_offset:y_offset+img_height, x_offset:x_offset+img_width] = img\n",
    "\n",
    "    return dst_image"
   ]
  },
  {
   "cell_type": "code",
   "execution_count": 4,
   "metadata": {},
   "outputs": [],
   "source": [
    "def read_hoda_cdb(file_name):\n",
    "    with open(file_name, 'rb') as binary_file:\n",
    "        data = binary_file.read()\n",
    "        offset = 0\n",
    "        yy = struct.unpack_from('H', data, offset)[0]\n",
    "        offset += 2\n",
    "        m = struct.unpack_from('B', data, offset)[0]\n",
    "        offset += 1\n",
    "        d = struct.unpack_from('B', data, offset)[0]\n",
    "        offset += 1\n",
    "        H = struct.unpack_from('B', data, offset)[0]\n",
    "        offset += 1\n",
    "        W = struct.unpack_from('B', data, offset)[0]\n",
    "        offset += 1\n",
    "        TotalRec = struct.unpack_from('I', data, offset)[0]\n",
    "        offset += 4\n",
    "        LetterCount = struct.unpack_from('128I', data, offset)\n",
    "        offset += 128 * 4\n",
    "        imgType = struct.unpack_from('B', data, offset)[0]\n",
    "        offset += 1\n",
    "        Comments = struct.unpack_from('256c', data, offset)\n",
    "        offset += 256 * 1\n",
    "        Reserved = struct.unpack_from('245c', data, offset)\n",
    "        offset += 245 * 1\n",
    "\n",
    "        if (W > 0) and (H > 0):\n",
    "            normal = True\n",
    "        else:\n",
    "            normal = False\n",
    "\n",
    "        images = []\n",
    "        labels = []\n",
    "\n",
    "        for i in range(TotalRec):\n",
    "\n",
    "            StartByte = struct.unpack_from('B', data, offset)[0]  # must be 0xff\n",
    "            offset += 1\n",
    "            label = struct.unpack_from('B', data, offset)[0]\n",
    "            offset += 1\n",
    "\n",
    "            if not normal:\n",
    "                W = struct.unpack_from('B', data, offset)[0]\n",
    "                offset += 1\n",
    "                H = struct.unpack_from('B', data, offset)[0]\n",
    "                offset += 1\n",
    "            ByteCount = struct.unpack_from('H', data, offset)[0]\n",
    "            offset += 2\n",
    "            image = np.zeros(shape=[H, W], dtype=np.uint8)\n",
    "\n",
    "            if imgType == 0:\n",
    "                for y in range(H):\n",
    "                    bWhite = True\n",
    "                    counter = 0\n",
    "                    while counter < W:\n",
    "                        WBcount = struct.unpack_from('B', data, offset)[0]\n",
    "                        offset += 1\n",
    "                        if bWhite:\n",
    "                            image[y, counter:counter + WBcount] = 0\n",
    "                        else:\n",
    "                            image[y, counter:counter + WBcount] = 255\n",
    "                        bWhite = not bWhite\n",
    "                        counter += WBcount\n",
    "            else:\n",
    "                data = struct.unpack_from('{}B'.format(W * H), data, offset)\n",
    "                offset += W * H\n",
    "                image = np.asarray(data, dtype=np.uint8).reshape([W, H]).T\n",
    "\n",
    "            images.append(image)\n",
    "            labels.append(label)\n",
    "\n",
    "        return images, labels"
   ]
  },
  {
   "cell_type": "code",
   "execution_count": 5,
   "metadata": {},
   "outputs": [],
   "source": [
    "def read_hoda_dataset(dataset_path, images_height=32, images_width=32, one_hot=False, reshape=True):\n",
    "    images, labels = read_hoda_cdb(dataset_path)\n",
    "    assert len(images) == len(labels)\n",
    "\n",
    "    X = np.zeros(shape=[len(images), images_height, images_width], dtype=np.float32)\n",
    "    Y = np.zeros(shape=[len(labels)], dtype=int)\n",
    "\n",
    "    for i in range(len(images)):\n",
    "        image = images[i]\n",
    "        image = __resize_image(src_image=image, dst_image_height=images_height, dst_image_width=images_width)\n",
    "        image = image / 255\n",
    "        image = np.where(image >= 0.5, 1, 0)\n",
    "        X[i] = image\n",
    "        Y[i] = labels[i]\n",
    "\n",
    "    if one_hot:\n",
    "        Y = __convert_to_one_hot(Y, 10).astype(dtype=np.float32)\n",
    "    else:\n",
    "        Y = Y.astype(dtype=np.float32)\n",
    "\n",
    "    if reshape:\n",
    "        X = X.reshape(-1, images_height * images_width)\n",
    "    else:\n",
    "        X = X.reshape(-1, images_height, images_width, 1)\n",
    "\n",
    "    return X, Y"
   ]
  },
  {
   "cell_type": "code",
   "execution_count": 6,
   "metadata": {},
   "outputs": [],
   "source": [
    "IMG_SIZE=32"
   ]
  },
  {
   "cell_type": "code",
   "execution_count": 7,
   "metadata": {},
   "outputs": [],
   "source": [
    "X_train, y_train = read_hoda_dataset(dataset_path=r\"C:\\Users\\ILiYA\\Desktop\\Project\\Data Set\\numbers\\Train 60000.cdb\",\n",
    "                                images_height=IMG_SIZE,\n",
    "                                images_width=IMG_SIZE,\n",
    "                                one_hot=False,\n",
    "                                reshape=True)\n",
    "\n",
    "X_val = X_train[45000:]\n",
    "y_val = y_train[45000:]\n",
    "X_train = X_train[:45000]\n",
    "y_train = y_train[:45000]"
   ]
  },
  {
   "cell_type": "code",
   "execution_count": 8,
   "metadata": {},
   "outputs": [],
   "source": [
    "X_test, y_test = read_hoda_dataset(dataset_path=r\"C:\\Users\\ILiYA\\Desktop\\Project\\Data Set\\numbers\\Test 20000.cdb\",\n",
    "                                images_height=IMG_SIZE,\n",
    "                                images_width=IMG_SIZE,\n",
    "                                one_hot=False,\n",
    "                                reshape=True)"
   ]
  },
  {
   "cell_type": "code",
   "execution_count": 9,
   "metadata": {},
   "outputs": [
    {
     "data": {
      "text/plain": [
       "(1024,)"
      ]
     },
     "execution_count": 9,
     "metadata": {},
     "output_type": "execute_result"
    }
   ],
   "source": [
    "X_train[0].shape"
   ]
  },
  {
   "cell_type": "code",
   "execution_count": 10,
   "metadata": {},
   "outputs": [],
   "source": [
    "X_train = X_train.reshape(X_train.shape[0], IMG_SIZE, IMG_SIZE)\n",
    "X_test = X_test.reshape(X_test.shape[0], IMG_SIZE,IMG_SIZE)\n",
    "X_val=X_val.reshape(X_val.shape[0], IMG_SIZE,IMG_SIZE)"
   ]
  },
  {
   "cell_type": "code",
   "execution_count": 11,
   "metadata": {},
   "outputs": [
    {
     "data": {
      "text/plain": [
       "(32, 32)"
      ]
     },
     "execution_count": 11,
     "metadata": {},
     "output_type": "execute_result"
    }
   ],
   "source": [
    "X_train[0].shape"
   ]
  },
  {
   "cell_type": "code",
   "execution_count": 12,
   "metadata": {},
   "outputs": [
    {
     "data": {
      "image/png": "[encoded data removed]",
      "text/plain": [
       "<Figure size 640x480 with 9 Axes>"
      ]
     },
     "metadata": {},
     "output_type": "display_data"
    }
   ],
   "source": [
    "for i in range(9):\n",
    "    plt.subplot(330 + (i+1))\n",
    "    plt.imshow(X_train[i].squeeze(), cmap=plt.get_cmap('gray'))\n",
    "    plt.title(y_train[i])"
   ]
  },
  {
   "cell_type": "code",
   "execution_count": 13,
   "metadata": {},
   "outputs": [],
   "source": [
    "def preprocess_data(X_train, y_train, X_test, y_test,X_val,y_val):\n",
    "  X_train = X_train.reshape(X_train.shape[0], X_train.shape[1], X_train.shape[2], 1)\n",
    "  X_test = X_test.reshape(X_test.shape[0], X_test.shape[1], X_test.shape[2], 1)\n",
    "  X_val = X_val.reshape(X_val.shape[0], X_val.shape[1], X_val.shape[2], 1)\n",
    "  X_train = X_train.astype('float32')\n",
    "  X_test = X_test.astype('float32')\n",
    "  X_val = X_val.astype('float32')\n",
    "  y_train = to_categorical(y_train)\n",
    "  y_test = to_categorical(y_test)\n",
    "  y_val = to_categorical(y_val)\n",
    "  return X_train, y_train, X_test, y_test,X_val,y_val"
   ]
  },
  {
   "cell_type": "code",
   "execution_count": 14,
   "metadata": {},
   "outputs": [],
   "source": [
    "from tensorflow.keras.models import Sequential\n",
    "from tensorflow.keras.layers import Conv2D, Activation, MaxPooling2D, Dropout, Flatten, Dense\n",
    "from tensorflow.keras.regularizers import l2\n",
    "from tensorflow.keras.optimizers import Adam\n",
    "\n",
    "def LeNet():\n",
    "    model = Sequential()\n",
    "    model.add(Conv2D(64, (5, 5), input_shape=(32, 32, 1), padding='same', kernel_regularizer=l2(1e-4)))\n",
    "    model.add(Activation('relu'))\n",
    "    model.add(MaxPooling2D(pool_size=(2, 2)))\n",
    "    model.add(Dropout(0.25))\n",
    "    model.add(Conv2D(32, (3, 3), padding='same', kernel_regularizer=l2(1e-4)))\n",
    "    model.add(Activation('relu'))\n",
    "    model.add(MaxPooling2D(pool_size=(2, 2)))\n",
    "    model.add(Dropout(0.25))\n",
    "    model.add(Flatten())\n",
    "    model.add(Dense(128, activation='relu', kernel_regularizer=l2(1e-4)))\n",
    "    model.add(Dropout(0.5))\n",
    "    model.add(Dense(64, activation='relu', kernel_regularizer=l2(1e-4)))\n",
    "    model.add(Dropout(0.5))\n",
    "    model.add(Dense(10, activation='softmax'))\n",
    "    opt = Adam()\n",
    "    model.compile(loss='categorical_crossentropy',\n",
    "                  optimizer=opt,\n",
    "                  metrics=['accuracy'])\n",
    "    return model"
   ]
  },
  {
   "cell_type": "code",
   "execution_count": 15,
   "metadata": {},
   "outputs": [
    {
     "name": "stdout",
     "output_type": "stream",
     "text": [
      "WARNING:tensorflow:From c:\\Users\\ILiYA\\anaconda3\\Lib\\site-packages\\keras\\src\\backend.py:873: The name tf.get_default_graph is deprecated. Please use tf.compat.v1.get_default_graph instead.\n",
      "\n",
      "WARNING:tensorflow:From c:\\Users\\ILiYA\\anaconda3\\Lib\\site-packages\\keras\\src\\layers\\pooling\\max_pooling2d.py:161: The name tf.nn.max_pool is deprecated. Please use tf.nn.max_pool2d instead.\n",
      "\n",
      "Model: \"sequential\"\n",
      "_________________________________________________________________\n",
      " Layer (type)                Output Shape              Param #   \n",
      "=================================================================\n",
      " conv2d (Conv2D)             (None, 32, 32, 64)        1664      \n",
      "                                                                 \n",
      " activation (Activation)     (None, 32, 32, 64)        0         \n",
      "                                                                 \n",
      " max_pooling2d (MaxPooling2  (None, 16, 16, 64)        0         \n",
      " D)                                                              \n",
      "                                                                 \n",
      " dropout (Dropout)           (None, 16, 16, 64)        0         \n",
      "                                                                 \n",
      " conv2d_1 (Conv2D)           (None, 16, 16, 32)        18464     \n",
      "                                                                 \n",
      " activation_1 (Activation)   (None, 16, 16, 32)        0         \n",
      "                                                                 \n",
      " max_pooling2d_1 (MaxPoolin  (None, 8, 8, 32)          0         \n",
      " g2D)                                                            \n",
      "                                                                 \n",
      " dropout_1 (Dropout)         (None, 8, 8, 32)          0         \n",
      "                                                                 \n",
      " flatten (Flatten)           (None, 2048)              0         \n",
      "                                                                 \n",
      " dense (Dense)               (None, 128)               262272    \n",
      "                                                                 \n",
      " dropout_2 (Dropout)         (None, 128)               0         \n",
      "                                                                 \n",
      " dense_1 (Dense)             (None, 64)                8256      \n",
      "                                                                 \n",
      " dropout_3 (Dropout)         (None, 64)                0         \n",
      "                                                                 \n",
      " dense_2 (Dense)             (None, 10)                650       \n",
      "                                                                 \n",
      "=================================================================\n",
      "Total params: 291306 (1.11 MB)\n",
      "Trainable params: 291306 (1.11 MB)\n",
      "Non-trainable params: 0 (0.00 Byte)\n",
      "_________________________________________________________________\n"
     ]
    }
   ],
   "source": [
    "LeNet_model = LeNet()\n",
    "LeNet_model.summary()"
   ]
  },
  {
   "cell_type": "code",
   "execution_count": 16,
   "metadata": {},
   "outputs": [],
   "source": [
    "def summary_history(history):\n",
    "  plt.figure(figsize = (10,6))\n",
    "  plt.plot(history.history['accuracy'], color = 'blue', label = 'train_acc')\n",
    "  plt.plot(history.history['val_accuracy'], color = 'red', label = 'val_acc')\n",
    "  plt.legend()\n",
    "  plt.title('Accuracy')\n",
    "  plt.show()\n",
    "\n",
    "def train_model(model, X_train, y_train, X_test, y_test,X_val,y_val, epochs = 30, batch_size = 128):\n",
    "  X_train, y_train, X_test, y_test,X_val,y_val= preprocess_data(X_train, y_train, X_test, y_test,X_val,y_val)\n",
    "  history = model.fit(X_train, y_train, epochs = epochs, batch_size = batch_size,\n",
    "                      steps_per_epoch = X_train.shape[0]//batch_size,\n",
    "                      validation_data = (X_val,y_val),\n",
    "                      validation_steps = X_val.shape[0]//batch_size)\n",
    "  _, acc = model.evaluate(X_test, y_test, verbose = 1)\n",
    "  print('%.3f' % (acc * 100.0))\n",
    "  summary_history(history)"
   ]
  },
  {
   "cell_type": "code",
   "execution_count": 17,
   "metadata": {},
   "outputs": [
    {
     "name": "stdout",
     "output_type": "stream",
     "text": [
      "Epoch 1/30\n",
      "WARNING:tensorflow:From c:\\Users\\ILiYA\\anaconda3\\Lib\\site-packages\\keras\\src\\utils\\tf_utils.py:492: The name tf.ragged.RaggedTensorValue is deprecated. Please use tf.compat.v1.ragged.RaggedTensorValue instead.\n",
      "\n",
      "WARNING:tensorflow:From c:\\Users\\ILiYA\\anaconda3\\Lib\\site-packages\\keras\\src\\engine\\base_layer_utils.py:384: The name tf.executing_eagerly_outside_functions is deprecated. Please use tf.compat.v1.executing_eagerly_outside_functions instead.\n",
      "\n",
      "351/351 [==============================] - 19s 48ms/step - loss: 0.5050 - accuracy: 0.8543 - val_loss: 0.1025 - val_accuracy: 0.9808\n",
      "Epoch 2/30\n",
      "351/351 [==============================] - 17s 48ms/step - loss: 0.1632 - accuracy: 0.9665 - val_loss: 0.0862 - val_accuracy: 0.9863\n",
      "Epoch 3/30\n",
      "351/351 [==============================] - 16s 45ms/step - loss: 0.1231 - accuracy: 0.9779 - val_loss: 0.0699 - val_accuracy: 0.9919\n",
      "Epoch 4/30\n",
      "351/351 [==============================] - 16s 44ms/step - loss: 0.1052 - accuracy: 0.9833 - val_loss: 0.0678 - val_accuracy: 0.9929\n",
      "Epoch 5/30\n",
      "351/351 [==============================] - 16s 45ms/step - loss: 0.0969 - accuracy: 0.9861 - val_loss: 0.0661 - val_accuracy: 0.9943\n",
      "Epoch 6/30\n",
      "351/351 [==============================] - 15s 43ms/step - loss: 0.0944 - accuracy: 0.9859 - val_loss: 0.0662 - val_accuracy: 0.9937\n",
      "Epoch 7/30\n",
      "351/351 [==============================] - 18s 51ms/step - loss: 0.0872 - accuracy: 0.9893 - val_loss: 0.0636 - val_accuracy: 0.9944\n",
      "Epoch 8/30\n",
      "351/351 [==============================] - 15s 44ms/step - loss: 0.0843 - accuracy: 0.9891 - val_loss: 0.0636 - val_accuracy: 0.9945\n",
      "Epoch 9/30\n",
      "351/351 [==============================] - 20s 57ms/step - loss: 0.0815 - accuracy: 0.9894 - val_loss: 0.0645 - val_accuracy: 0.9939\n",
      "Epoch 10/30\n",
      "351/351 [==============================] - 17s 48ms/step - loss: 0.0809 - accuracy: 0.9899 - val_loss: 0.0647 - val_accuracy: 0.9941\n",
      "Epoch 11/30\n",
      "351/351 [==============================] - 15s 43ms/step - loss: 0.0803 - accuracy: 0.9893 - val_loss: 0.0627 - val_accuracy: 0.9947\n",
      "Epoch 12/30\n",
      "351/351 [==============================] - 15s 44ms/step - loss: 0.0750 - accuracy: 0.9913 - val_loss: 0.0611 - val_accuracy: 0.9953\n",
      "Epoch 13/30\n",
      "351/351 [==============================] - 18s 51ms/step - loss: 0.0753 - accuracy: 0.9912 - val_loss: 0.0596 - val_accuracy: 0.9951\n",
      "Epoch 14/30\n",
      "351/351 [==============================] - 17s 49ms/step - loss: 0.0733 - accuracy: 0.9919 - val_loss: 0.0610 - val_accuracy: 0.9954\n",
      "Epoch 15/30\n",
      "351/351 [==============================] - 17s 49ms/step - loss: 0.0733 - accuracy: 0.9914 - val_loss: 0.0641 - val_accuracy: 0.9955\n",
      "Epoch 16/30\n",
      "351/351 [==============================] - 16s 46ms/step - loss: 0.0704 - accuracy: 0.9924 - val_loss: 0.0611 - val_accuracy: 0.9949\n",
      "Epoch 17/30\n",
      "351/351 [==============================] - 15s 44ms/step - loss: 0.0734 - accuracy: 0.9910 - val_loss: 0.0639 - val_accuracy: 0.9947\n",
      "Epoch 18/30\n",
      "351/351 [==============================] - 15s 43ms/step - loss: 0.0701 - accuracy: 0.9927 - val_loss: 0.0605 - val_accuracy: 0.9956\n",
      "Epoch 19/30\n",
      "351/351 [==============================] - 15s 44ms/step - loss: 0.0706 - accuracy: 0.9927 - val_loss: 0.0592 - val_accuracy: 0.9957\n",
      "Epoch 20/30\n",
      "351/351 [==============================] - 15s 43ms/step - loss: 0.0684 - accuracy: 0.9928 - val_loss: 0.0586 - val_accuracy: 0.9957\n",
      "Epoch 21/30\n",
      "351/351 [==============================] - 15s 43ms/step - loss: 0.0673 - accuracy: 0.9925 - val_loss: 0.0607 - val_accuracy: 0.9953\n",
      "Epoch 22/30\n",
      "351/351 [==============================] - 15s 43ms/step - loss: 0.0684 - accuracy: 0.9924 - val_loss: 0.0596 - val_accuracy: 0.9957\n",
      "Epoch 23/30\n",
      "351/351 [==============================] - 15s 43ms/step - loss: 0.0673 - accuracy: 0.9931 - val_loss: 0.0595 - val_accuracy: 0.9951\n",
      "Epoch 24/30\n",
      "351/351 [==============================] - 15s 44ms/step - loss: 0.0668 - accuracy: 0.9927 - val_loss: 0.0588 - val_accuracy: 0.9952\n",
      "Epoch 25/30\n",
      "351/351 [==============================] - 17s 48ms/step - loss: 0.0651 - accuracy: 0.9934 - val_loss: 0.0624 - val_accuracy: 0.9946\n",
      "Epoch 26/30\n",
      "351/351 [==============================] - 17s 48ms/step - loss: 0.0662 - accuracy: 0.9932 - val_loss: 0.0581 - val_accuracy: 0.9963\n",
      "Epoch 27/30\n",
      "351/351 [==============================] - 17s 48ms/step - loss: 0.0679 - accuracy: 0.9926 - val_loss: 0.0582 - val_accuracy: 0.9956\n",
      "Epoch 28/30\n",
      "351/351 [==============================] - 17s 48ms/step - loss: 0.0649 - accuracy: 0.9934 - val_loss: 0.0582 - val_accuracy: 0.9961\n",
      "Epoch 29/30\n",
      "351/351 [==============================] - 17s 48ms/step - loss: 0.0644 - accuracy: 0.9936 - val_loss: 0.0558 - val_accuracy: 0.9964\n",
      "Epoch 30/30\n",
      "351/351 [==============================] - 17s 49ms/step - loss: 0.0640 - accuracy: 0.9935 - val_loss: 0.0565 - val_accuracy: 0.9961\n",
      "625/625 [==============================] - 2s 4ms/step - loss: 0.0710 - accuracy: 0.9919\n",
      "99.190\n"
     ]
    },
    {
     "data": {
      "image/png": "[encoded data removed]",
      "text/plain": [
       "<Figure size 1000x600 with 1 Axes>"
      ]
     },
     "metadata": {},
     "output_type": "display_data"
    }
   ],
   "source": [
    "train_model(LeNet_model, X_train, y_train, X_test, y_test,X_val,y_val)"
   ]
  },
  {
   "cell_type": "code",
   "execution_count": 18,
   "metadata": {},
   "outputs": [
    {
     "name": "stderr",
     "output_type": "stream",
     "text": [
      "C:\\Users\\ILiYA\\AppData\\Local\\Temp\\ipykernel_6536\\404048353.py:3: UserWarning: You are saving your model as an HDF5 file via `model.save()`. This file format is considered legacy. We recommend using instead the native Keras format, e.g. `model.save('my_model.keras')`.\n",
      "  save_model(LeNet_model, r\"C:\\Users\\ILiYA\\Desktop\\Project\\Models\\trained numebr detection\\LeNet_model.h5\")\n"
     ]
    }
   ],
   "source": [
    "from tensorflow.keras.models import save_model\n",
    "save_model(LeNet_model, r\"C:\\Users\\ILiYA\\Desktop\\Project\\Models\\trained numebr detection\\LeNet_model.keras\")\n",
    "save_model(LeNet_model, r\"C:\\Users\\ILiYA\\Desktop\\Project\\Models\\trained numebr detection\\LeNet_model.h5\")"
   ]
  }
 ],
 "metadata": {
  "kernelspec": {
   "display_name": "base",
   "language": "python",
   "name": "python3"
  },
  "language_info": {
   "codemirror_mode": {
    "name": "ipython",
    "version": 3
   },
   "file_extension": ".py",
   "mimetype": "text/x-python",
   "name": "python",
   "nbconvert_exporter": "python",
   "pygments_lexer": "ipython3",
   "version": "3.11.5"
  }
 },
 "nbformat": 4,
 "nbformat_minor": 2
}
